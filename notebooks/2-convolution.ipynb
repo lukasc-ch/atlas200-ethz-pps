{
 "cells": [
  {
   "cell_type": "code",
   "execution_count": null,
   "metadata": {},
   "outputs": [],
   "source": [
    "import numpy as np\n",
    "import matplotlib.pyplot as plt\n",
    "from PIL import Image\n",
    "from scipy import signal\n",
    "\n",
    "# Make the plots larger\n",
    "plt.rcParams[\"figure.figsize\"] = (16,9)"
   ]
  },
  {
   "cell_type": "markdown",
   "metadata": {},
   "source": [
    "### Load image data"
   ]
  },
  {
   "cell_type": "code",
   "execution_count": null,
   "metadata": {},
   "outputs": [],
   "source": [
    "filename = \"eight0.jpg\"\n",
    "imsize   = (64,64)\n",
    "\n",
    "im        = Image.open(filename)\n",
    "greyscale = im.convert(\"L\").resize(imsize)\n",
    "raw_data  = np.array(greyscale)\n",
    "data      = 1.0 - (raw_data / 255.0)"
   ]
  },
  {
   "cell_type": "markdown",
   "metadata": {},
   "source": [
    "### Plot the image"
   ]
  },
  {
   "cell_type": "code",
   "execution_count": null,
   "metadata": {},
   "outputs": [],
   "source": [
    "def plot_data(data,colormap=\"Greys\"):\n",
    "    plt.imshow(data,cmap=colormap)\n",
    "    plt.colorbar()\n",
    "    plt.show()\n",
    "    return\n",
    "\n",
    "plot_data(data)"
   ]
  },
  {
   "cell_type": "markdown",
   "metadata": {},
   "source": [
    "### Perform convolution\n",
    "\n",
    "We can define kernels as we like and perform the convolution on them. Can you see what these kernels do?"
   ]
  },
  {
   "cell_type": "code",
   "execution_count": null,
   "metadata": {},
   "outputs": [],
   "source": [
    "def convolve(kernel):\n",
    "    result = signal.correlate2d(data, kernel, mode=\"valid\")\n",
    "    return result\n",
    "\n",
    "# what do these do?\n",
    "\n",
    "## average (blur)\n",
    "kernel1 = np.array((\n",
    "    (1,1,1),\n",
    "    (1,1,1),\n",
    "    (1,1,1)\n",
    "))\n",
    "\n",
    "# sharpener\n",
    "kernel2 = np.array((\n",
    "    (0,-1,0),\n",
    "    (-1,5,-1),\n",
    "    (0,-1,0)\n",
    "))\n",
    "\n",
    "# vertical edge detector\n",
    "kernel3 = np.array((\n",
    "    (1,0,-1),\n",
    "    (1,0,-1),\n",
    "    (1,0,-1)\n",
    "))\n",
    "\n",
    "# horizontal edge detector\n",
    "kernel4 = np.array((\n",
    "    (1,1,1),\n",
    "    (0,0,0),\n",
    "    (-1,-1,-1)\n",
    "))\n",
    "\n",
    "# try your own kernel here\n",
    "kernel5 = np.array((\n",
    "    (1,1,1,1,1),\n",
    "    (0,0,0,0,0),\n",
    "    (-1,-1,-1,-1,-1)\n",
    "))\n",
    "\n",
    "kernel = kernel5\n",
    "\n",
    "# perform the \"convolution\" (cross-correlation)\n",
    "result = convolve(kernel5)\n",
    "print(result.shape)\n",
    "\n",
    "# plot the image in two different color maps\n",
    "plot_data(result)\n",
    "plot_data(result, \"RdYlGn\")"
   ]
  }
 ],
 "metadata": {
  "kernelspec": {
   "display_name": "Python 3",
   "language": "python",
   "name": "python3"
  },
  "language_info": {
   "codemirror_mode": {
    "name": "ipython",
    "version": 3
   },
   "file_extension": ".py",
   "mimetype": "text/x-python",
   "name": "python",
   "nbconvert_exporter": "python",
   "pygments_lexer": "ipython3",
   "version": "3.7.9"
  }
 },
 "nbformat": 4,
 "nbformat_minor": 4
}
